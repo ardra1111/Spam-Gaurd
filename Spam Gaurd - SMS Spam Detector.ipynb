{
 "cells": [
  {
   "cell_type": "code",
   "execution_count": 1,
   "id": "085e657a-cc04-40b9-8d64-b0b56746d909",
   "metadata": {},
   "outputs": [],
   "source": [
    "import numpy as np\n",
    "import pandas as pd"
   ]
  },
  {
   "cell_type": "code",
   "execution_count": 2,
   "id": "82d17010-0653-4f50-9ec6-79aa23992aae",
   "metadata": {},
   "outputs": [],
   "source": [
    "df = pd.read_csv('spam.csv', encoding = 'ISO-8859-1')"
   ]
  },
  {
   "cell_type": "markdown",
   "id": "3773da66-4efc-4282-854d-81240ebd3b8b",
   "metadata": {},
   "source": [
    "## Understanding the Data "
   ]
  },
  {
   "cell_type": "code",
   "execution_count": 3,
   "id": "612f904e-c82a-4c15-8648-410765c9df06",
   "metadata": {},
   "outputs": [
    {
     "data": {
      "text/html": [
       "<div>\n",
       "<style scoped>\n",
       "    .dataframe tbody tr th:only-of-type {\n",
       "        vertical-align: middle;\n",
       "    }\n",
       "\n",
       "    .dataframe tbody tr th {\n",
       "        vertical-align: top;\n",
       "    }\n",
       "\n",
       "    .dataframe thead th {\n",
       "        text-align: right;\n",
       "    }\n",
       "</style>\n",
       "<table border=\"1\" class=\"dataframe\">\n",
       "  <thead>\n",
       "    <tr style=\"text-align: right;\">\n",
       "      <th></th>\n",
       "      <th>v1</th>\n",
       "      <th>v2</th>\n",
       "      <th>Unnamed: 2</th>\n",
       "      <th>Unnamed: 3</th>\n",
       "      <th>Unnamed: 4</th>\n",
       "    </tr>\n",
       "  </thead>\n",
       "  <tbody>\n",
       "    <tr>\n",
       "      <th>0</th>\n",
       "      <td>ham</td>\n",
       "      <td>Go until jurong point, crazy.. Available only ...</td>\n",
       "      <td>NaN</td>\n",
       "      <td>NaN</td>\n",
       "      <td>NaN</td>\n",
       "    </tr>\n",
       "    <tr>\n",
       "      <th>1</th>\n",
       "      <td>ham</td>\n",
       "      <td>Ok lar... Joking wif u oni...</td>\n",
       "      <td>NaN</td>\n",
       "      <td>NaN</td>\n",
       "      <td>NaN</td>\n",
       "    </tr>\n",
       "    <tr>\n",
       "      <th>2</th>\n",
       "      <td>spam</td>\n",
       "      <td>Free entry in 2 a wkly comp to win FA Cup fina...</td>\n",
       "      <td>NaN</td>\n",
       "      <td>NaN</td>\n",
       "      <td>NaN</td>\n",
       "    </tr>\n",
       "    <tr>\n",
       "      <th>3</th>\n",
       "      <td>ham</td>\n",
       "      <td>U dun say so early hor... U c already then say...</td>\n",
       "      <td>NaN</td>\n",
       "      <td>NaN</td>\n",
       "      <td>NaN</td>\n",
       "    </tr>\n",
       "    <tr>\n",
       "      <th>4</th>\n",
       "      <td>ham</td>\n",
       "      <td>Nah I don't think he goes to usf, he lives aro...</td>\n",
       "      <td>NaN</td>\n",
       "      <td>NaN</td>\n",
       "      <td>NaN</td>\n",
       "    </tr>\n",
       "  </tbody>\n",
       "</table>\n",
       "</div>"
      ],
      "text/plain": [
       "     v1                                                 v2 Unnamed: 2  \\\n",
       "0   ham  Go until jurong point, crazy.. Available only ...        NaN   \n",
       "1   ham                      Ok lar... Joking wif u oni...        NaN   \n",
       "2  spam  Free entry in 2 a wkly comp to win FA Cup fina...        NaN   \n",
       "3   ham  U dun say so early hor... U c already then say...        NaN   \n",
       "4   ham  Nah I don't think he goes to usf, he lives aro...        NaN   \n",
       "\n",
       "  Unnamed: 3 Unnamed: 4  \n",
       "0        NaN        NaN  \n",
       "1        NaN        NaN  \n",
       "2        NaN        NaN  \n",
       "3        NaN        NaN  \n",
       "4        NaN        NaN  "
      ]
     },
     "execution_count": 3,
     "metadata": {},
     "output_type": "execute_result"
    }
   ],
   "source": [
    "df.head()"
   ]
  },
  {
   "cell_type": "code",
   "execution_count": 4,
   "id": "765cc810-6c32-4627-8a33-b50c648caaba",
   "metadata": {},
   "outputs": [
    {
     "name": "stdout",
     "output_type": "stream",
     "text": [
      "<class 'pandas.core.frame.DataFrame'>\n",
      "RangeIndex: 5572 entries, 0 to 5571\n",
      "Data columns (total 5 columns):\n",
      " #   Column      Non-Null Count  Dtype \n",
      "---  ------      --------------  ----- \n",
      " 0   v1          5572 non-null   object\n",
      " 1   v2          5572 non-null   object\n",
      " 2   Unnamed: 2  50 non-null     object\n",
      " 3   Unnamed: 3  12 non-null     object\n",
      " 4   Unnamed: 4  6 non-null      object\n",
      "dtypes: object(5)\n",
      "memory usage: 217.8+ KB\n"
     ]
    }
   ],
   "source": [
    "df.info()"
   ]
  },
  {
   "cell_type": "code",
   "execution_count": 5,
   "id": "f5e22013-4cd2-4ee1-b6d6-e66115b9f25b",
   "metadata": {},
   "outputs": [
    {
     "data": {
      "text/html": [
       "<div>\n",
       "<style scoped>\n",
       "    .dataframe tbody tr th:only-of-type {\n",
       "        vertical-align: middle;\n",
       "    }\n",
       "\n",
       "    .dataframe tbody tr th {\n",
       "        vertical-align: top;\n",
       "    }\n",
       "\n",
       "    .dataframe thead th {\n",
       "        text-align: right;\n",
       "    }\n",
       "</style>\n",
       "<table border=\"1\" class=\"dataframe\">\n",
       "  <thead>\n",
       "    <tr style=\"text-align: right;\">\n",
       "      <th></th>\n",
       "      <th>v1</th>\n",
       "      <th>v2</th>\n",
       "      <th>Unnamed: 2</th>\n",
       "      <th>Unnamed: 3</th>\n",
       "      <th>Unnamed: 4</th>\n",
       "    </tr>\n",
       "  </thead>\n",
       "  <tbody>\n",
       "    <tr>\n",
       "      <th>count</th>\n",
       "      <td>5572</td>\n",
       "      <td>5572</td>\n",
       "      <td>50</td>\n",
       "      <td>12</td>\n",
       "      <td>6</td>\n",
       "    </tr>\n",
       "    <tr>\n",
       "      <th>unique</th>\n",
       "      <td>2</td>\n",
       "      <td>5169</td>\n",
       "      <td>43</td>\n",
       "      <td>10</td>\n",
       "      <td>5</td>\n",
       "    </tr>\n",
       "    <tr>\n",
       "      <th>top</th>\n",
       "      <td>ham</td>\n",
       "      <td>Sorry, I'll call later</td>\n",
       "      <td>bt not his girlfrnd... G o o d n i g h t . . .@\"</td>\n",
       "      <td>MK17 92H. 450Ppw 16\"</td>\n",
       "      <td>GNT:-)\"</td>\n",
       "    </tr>\n",
       "    <tr>\n",
       "      <th>freq</th>\n",
       "      <td>4825</td>\n",
       "      <td>30</td>\n",
       "      <td>3</td>\n",
       "      <td>2</td>\n",
       "      <td>2</td>\n",
       "    </tr>\n",
       "  </tbody>\n",
       "</table>\n",
       "</div>"
      ],
      "text/plain": [
       "          v1                      v2  \\\n",
       "count   5572                    5572   \n",
       "unique     2                    5169   \n",
       "top      ham  Sorry, I'll call later   \n",
       "freq    4825                      30   \n",
       "\n",
       "                                               Unnamed: 2  \\\n",
       "count                                                  50   \n",
       "unique                                                 43   \n",
       "top      bt not his girlfrnd... G o o d n i g h t . . .@\"   \n",
       "freq                                                    3   \n",
       "\n",
       "                   Unnamed: 3 Unnamed: 4  \n",
       "count                      12          6  \n",
       "unique                     10          5  \n",
       "top      MK17 92H. 450Ppw 16\"    GNT:-)\"  \n",
       "freq                        2          2  "
      ]
     },
     "execution_count": 5,
     "metadata": {},
     "output_type": "execute_result"
    }
   ],
   "source": [
    "df.describe()"
   ]
  },
  {
   "cell_type": "code",
   "execution_count": 6,
   "id": "f694133b-5324-4893-9d52-a41983428358",
   "metadata": {},
   "outputs": [
    {
     "data": {
      "text/html": [
       "<div>\n",
       "<style scoped>\n",
       "    .dataframe tbody tr th:only-of-type {\n",
       "        vertical-align: middle;\n",
       "    }\n",
       "\n",
       "    .dataframe tbody tr th {\n",
       "        vertical-align: top;\n",
       "    }\n",
       "\n",
       "    .dataframe thead th {\n",
       "        text-align: right;\n",
       "    }\n",
       "</style>\n",
       "<table border=\"1\" class=\"dataframe\">\n",
       "  <thead>\n",
       "    <tr style=\"text-align: right;\">\n",
       "      <th></th>\n",
       "      <th>v1</th>\n",
       "      <th>v2</th>\n",
       "      <th>Unnamed: 2</th>\n",
       "      <th>Unnamed: 3</th>\n",
       "      <th>Unnamed: 4</th>\n",
       "    </tr>\n",
       "  </thead>\n",
       "  <tbody>\n",
       "    <tr>\n",
       "      <th>893</th>\n",
       "      <td>ham</td>\n",
       "      <td>It's ok i noe u're busy but i'm really too bor...</td>\n",
       "      <td>NaN</td>\n",
       "      <td>NaN</td>\n",
       "      <td>NaN</td>\n",
       "    </tr>\n",
       "    <tr>\n",
       "      <th>76</th>\n",
       "      <td>ham</td>\n",
       "      <td>Thats cool. i am a gentleman and will treat yo...</td>\n",
       "      <td>NaN</td>\n",
       "      <td>NaN</td>\n",
       "      <td>NaN</td>\n",
       "    </tr>\n",
       "    <tr>\n",
       "      <th>2447</th>\n",
       "      <td>ham</td>\n",
       "      <td>Tmr then Ì_ brin lar... Aiya later i come n c ...</td>\n",
       "      <td>NaN</td>\n",
       "      <td>NaN</td>\n",
       "      <td>NaN</td>\n",
       "    </tr>\n",
       "    <tr>\n",
       "      <th>4448</th>\n",
       "      <td>spam</td>\n",
       "      <td>Urgent UR awarded a complimentary trip to Euro...</td>\n",
       "      <td>NaN</td>\n",
       "      <td>NaN</td>\n",
       "      <td>NaN</td>\n",
       "    </tr>\n",
       "    <tr>\n",
       "      <th>4646</th>\n",
       "      <td>ham</td>\n",
       "      <td>God created gap btwn ur fingers so dat sum1 vr...</td>\n",
       "      <td>NaN</td>\n",
       "      <td>NaN</td>\n",
       "      <td>NaN</td>\n",
       "    </tr>\n",
       "  </tbody>\n",
       "</table>\n",
       "</div>"
      ],
      "text/plain": [
       "        v1                                                 v2 Unnamed: 2  \\\n",
       "893    ham  It's ok i noe u're busy but i'm really too bor...        NaN   \n",
       "76     ham  Thats cool. i am a gentleman and will treat yo...        NaN   \n",
       "2447   ham  Tmr then Ì_ brin lar... Aiya later i come n c ...        NaN   \n",
       "4448  spam  Urgent UR awarded a complimentary trip to Euro...        NaN   \n",
       "4646   ham  God created gap btwn ur fingers so dat sum1 vr...        NaN   \n",
       "\n",
       "     Unnamed: 3 Unnamed: 4  \n",
       "893         NaN        NaN  \n",
       "76          NaN        NaN  \n",
       "2447        NaN        NaN  \n",
       "4448        NaN        NaN  \n",
       "4646        NaN        NaN  "
      ]
     },
     "execution_count": 6,
     "metadata": {},
     "output_type": "execute_result"
    }
   ],
   "source": [
    "df.sample(5)"
   ]
  },
  {
   "cell_type": "code",
   "execution_count": 7,
   "id": "6450e0cd-2e1b-438c-8390-f8a83b9fc9c7",
   "metadata": {},
   "outputs": [
    {
     "data": {
      "text/plain": [
       "v1\n",
       "ham     4825\n",
       "spam     747\n",
       "Name: count, dtype: int64"
      ]
     },
     "execution_count": 7,
     "metadata": {},
     "output_type": "execute_result"
    }
   ],
   "source": [
    "df['v1'].value_counts()"
   ]
  },
  {
   "cell_type": "code",
   "execution_count": 8,
   "id": "a8340871-72c0-4fee-b3c1-8ec6783a8582",
   "metadata": {},
   "outputs": [
    {
     "data": {
      "text/plain": [
       "(5572, 5)"
      ]
     },
     "execution_count": 8,
     "metadata": {},
     "output_type": "execute_result"
    }
   ],
   "source": [
    "df.shape"
   ]
  },
  {
   "cell_type": "markdown",
   "id": "3513eba8-6c21-4365-a793-762a632c66fc",
   "metadata": {},
   "source": [
    "## Procedures"
   ]
  },
  {
   "cell_type": "markdown",
   "id": "68527f04-53c8-4432-8c95-913e36262e77",
   "metadata": {},
   "source": [
    "1) Data Cleaning\n",
    "\n",
    "2) Data Analysis\n",
    "\n",
    "3) Data Pre-Processing (vectorization, stemming etc)\n",
    "\n",
    "4) Model building \n",
    "\n",
    "5) Evaluation \n",
    "\n",
    "6) Improvment ( if needed for maximum accracy)\n",
    "\n",
    "7) Converting into a website\n",
    "\n",
    "8) Deploying the website"
   ]
  },
  {
   "cell_type": "markdown",
   "id": "281a5dd4-7f09-48fb-ac38-040e6dcc40cf",
   "metadata": {},
   "source": [
    "## Data Cleaning"
   ]
  },
  {
   "cell_type": "markdown",
   "id": "76cf41b9-1018-4a0a-9f80-0cdcb66ec053",
   "metadata": {},
   "source": [
    "out of the 5 coloums we see that only the first two has a large amount of data. we will remove the other 3 coluumns."
   ]
  },
  {
   "cell_type": "code",
   "execution_count": 9,
   "id": "c97fd3a9-7907-4242-bb93-114bc7ed8fd8",
   "metadata": {},
   "outputs": [],
   "source": [
    "df.drop(columns=['Unnamed: 2',\t'Unnamed: 3', 'Unnamed: 4'], inplace =True)"
   ]
  },
  {
   "cell_type": "code",
   "execution_count": 10,
   "id": "b347b2d0-d430-41f8-85d1-4a84eefd4ed9",
   "metadata": {},
   "outputs": [
    {
     "data": {
      "text/html": [
       "<div>\n",
       "<style scoped>\n",
       "    .dataframe tbody tr th:only-of-type {\n",
       "        vertical-align: middle;\n",
       "    }\n",
       "\n",
       "    .dataframe tbody tr th {\n",
       "        vertical-align: top;\n",
       "    }\n",
       "\n",
       "    .dataframe thead th {\n",
       "        text-align: right;\n",
       "    }\n",
       "</style>\n",
       "<table border=\"1\" class=\"dataframe\">\n",
       "  <thead>\n",
       "    <tr style=\"text-align: right;\">\n",
       "      <th></th>\n",
       "      <th>v1</th>\n",
       "      <th>v2</th>\n",
       "    </tr>\n",
       "  </thead>\n",
       "  <tbody>\n",
       "    <tr>\n",
       "      <th>425</th>\n",
       "      <td>ham</td>\n",
       "      <td>Ok. She'll be ok. I guess</td>\n",
       "    </tr>\n",
       "    <tr>\n",
       "      <th>3321</th>\n",
       "      <td>ham</td>\n",
       "      <td>Ok darlin i supose it was ok i just worry too ...</td>\n",
       "    </tr>\n",
       "    <tr>\n",
       "      <th>2768</th>\n",
       "      <td>ham</td>\n",
       "      <td>I am on the way to ur home</td>\n",
       "    </tr>\n",
       "    <tr>\n",
       "      <th>2861</th>\n",
       "      <td>spam</td>\n",
       "      <td>Adult 18 Content Your video will be with you s...</td>\n",
       "    </tr>\n",
       "    <tr>\n",
       "      <th>3885</th>\n",
       "      <td>ham</td>\n",
       "      <td>Same, I'm at my great aunts anniversary party ...</td>\n",
       "    </tr>\n",
       "  </tbody>\n",
       "</table>\n",
       "</div>"
      ],
      "text/plain": [
       "        v1                                                 v2\n",
       "425    ham                          Ok. She'll be ok. I guess\n",
       "3321   ham  Ok darlin i supose it was ok i just worry too ...\n",
       "2768   ham                         I am on the way to ur home\n",
       "2861  spam  Adult 18 Content Your video will be with you s...\n",
       "3885   ham  Same, I'm at my great aunts anniversary party ..."
      ]
     },
     "execution_count": 10,
     "metadata": {},
     "output_type": "execute_result"
    }
   ],
   "source": [
    "df.sample(5)"
   ]
  },
  {
   "cell_type": "code",
   "execution_count": 11,
   "id": "722748b8-982f-44fc-b5ea-4287cf39b37d",
   "metadata": {},
   "outputs": [
    {
     "name": "stdout",
     "output_type": "stream",
     "text": [
      "<class 'pandas.core.frame.DataFrame'>\n",
      "RangeIndex: 5572 entries, 0 to 5571\n",
      "Data columns (total 2 columns):\n",
      " #   Column  Non-Null Count  Dtype \n",
      "---  ------  --------------  ----- \n",
      " 0   v1      5572 non-null   object\n",
      " 1   v2      5572 non-null   object\n",
      "dtypes: object(2)\n",
      "memory usage: 87.2+ KB\n"
     ]
    }
   ],
   "source": [
    "df.info()"
   ]
  },
  {
   "cell_type": "code",
   "execution_count": 12,
   "id": "7567da21-3fd1-4307-afa0-2807a2edad78",
   "metadata": {},
   "outputs": [
    {
     "data": {
      "text/html": [
       "<div>\n",
       "<style scoped>\n",
       "    .dataframe tbody tr th:only-of-type {\n",
       "        vertical-align: middle;\n",
       "    }\n",
       "\n",
       "    .dataframe tbody tr th {\n",
       "        vertical-align: top;\n",
       "    }\n",
       "\n",
       "    .dataframe thead th {\n",
       "        text-align: right;\n",
       "    }\n",
       "</style>\n",
       "<table border=\"1\" class=\"dataframe\">\n",
       "  <thead>\n",
       "    <tr style=\"text-align: right;\">\n",
       "      <th></th>\n",
       "      <th>target</th>\n",
       "      <th>text</th>\n",
       "    </tr>\n",
       "  </thead>\n",
       "  <tbody>\n",
       "    <tr>\n",
       "      <th>4749</th>\n",
       "      <td>ham</td>\n",
       "      <td>If you're still up, maybe leave the credit car...</td>\n",
       "    </tr>\n",
       "    <tr>\n",
       "      <th>2914</th>\n",
       "      <td>ham</td>\n",
       "      <td>Nothing lor... A bit bored too... Then y dun u...</td>\n",
       "    </tr>\n",
       "    <tr>\n",
       "      <th>2594</th>\n",
       "      <td>ham</td>\n",
       "      <td>ThatÛ÷s the thing with apes, u can fight to t...</td>\n",
       "    </tr>\n",
       "    <tr>\n",
       "      <th>4101</th>\n",
       "      <td>ham</td>\n",
       "      <td>Ok then i will come to ur home after half an hour</td>\n",
       "    </tr>\n",
       "    <tr>\n",
       "      <th>787</th>\n",
       "      <td>spam</td>\n",
       "      <td>Ever thought about living a good life with a p...</td>\n",
       "    </tr>\n",
       "  </tbody>\n",
       "</table>\n",
       "</div>"
      ],
      "text/plain": [
       "     target                                               text\n",
       "4749    ham  If you're still up, maybe leave the credit car...\n",
       "2914    ham  Nothing lor... A bit bored too... Then y dun u...\n",
       "2594    ham  ThatÛ÷s the thing with apes, u can fight to t...\n",
       "4101    ham  Ok then i will come to ur home after half an hour\n",
       "787    spam  Ever thought about living a good life with a p..."
      ]
     },
     "execution_count": 12,
     "metadata": {},
     "output_type": "execute_result"
    }
   ],
   "source": [
    "#Renaming columns\n",
    "\n",
    "df.rename(columns={'v1' : 'target', 'v2' : 'text'}, inplace = True)\n",
    "df.sample(5)"
   ]
  },
  {
   "cell_type": "code",
   "execution_count": 13,
   "id": "88607230-ca15-4245-8e0b-36e253c063c3",
   "metadata": {},
   "outputs": [],
   "source": [
    "# Assigning the value 0 for ham and 1 for spam\n",
    "from sklearn.preprocessing import LabelEncoder\n",
    "encoder = LabelEncoder()\n",
    "df['target'] = encoder.fit_transform(df['target'])"
   ]
  },
  {
   "cell_type": "code",
   "execution_count": 14,
   "id": "aa989a34-fd97-4895-920e-f5147b668b45",
   "metadata": {},
   "outputs": [
    {
     "data": {
      "text/html": [
       "<div>\n",
       "<style scoped>\n",
       "    .dataframe tbody tr th:only-of-type {\n",
       "        vertical-align: middle;\n",
       "    }\n",
       "\n",
       "    .dataframe tbody tr th {\n",
       "        vertical-align: top;\n",
       "    }\n",
       "\n",
       "    .dataframe thead th {\n",
       "        text-align: right;\n",
       "    }\n",
       "</style>\n",
       "<table border=\"1\" class=\"dataframe\">\n",
       "  <thead>\n",
       "    <tr style=\"text-align: right;\">\n",
       "      <th></th>\n",
       "      <th>target</th>\n",
       "      <th>text</th>\n",
       "    </tr>\n",
       "  </thead>\n",
       "  <tbody>\n",
       "    <tr>\n",
       "      <th>0</th>\n",
       "      <td>0</td>\n",
       "      <td>Go until jurong point, crazy.. Available only ...</td>\n",
       "    </tr>\n",
       "    <tr>\n",
       "      <th>1</th>\n",
       "      <td>0</td>\n",
       "      <td>Ok lar... Joking wif u oni...</td>\n",
       "    </tr>\n",
       "    <tr>\n",
       "      <th>2</th>\n",
       "      <td>1</td>\n",
       "      <td>Free entry in 2 a wkly comp to win FA Cup fina...</td>\n",
       "    </tr>\n",
       "    <tr>\n",
       "      <th>3</th>\n",
       "      <td>0</td>\n",
       "      <td>U dun say so early hor... U c already then say...</td>\n",
       "    </tr>\n",
       "    <tr>\n",
       "      <th>4</th>\n",
       "      <td>0</td>\n",
       "      <td>Nah I don't think he goes to usf, he lives aro...</td>\n",
       "    </tr>\n",
       "  </tbody>\n",
       "</table>\n",
       "</div>"
      ],
      "text/plain": [
       "   target                                               text\n",
       "0       0  Go until jurong point, crazy.. Available only ...\n",
       "1       0                      Ok lar... Joking wif u oni...\n",
       "2       1  Free entry in 2 a wkly comp to win FA Cup fina...\n",
       "3       0  U dun say so early hor... U c already then say...\n",
       "4       0  Nah I don't think he goes to usf, he lives aro..."
      ]
     },
     "execution_count": 14,
     "metadata": {},
     "output_type": "execute_result"
    }
   ],
   "source": [
    "df.head()"
   ]
  },
  {
   "cell_type": "code",
   "execution_count": 15,
   "id": "a824c68a-40e0-4cf1-ba4a-0a442583bb2e",
   "metadata": {},
   "outputs": [
    {
     "data": {
      "text/plain": [
       "target    0\n",
       "text      0\n",
       "dtype: int64"
      ]
     },
     "execution_count": 15,
     "metadata": {},
     "output_type": "execute_result"
    }
   ],
   "source": [
    "#Checking for missing Values\n",
    "df.isnull().sum()"
   ]
  },
  {
   "cell_type": "code",
   "execution_count": 16,
   "id": "042f702d-104d-446f-95e0-69a19d35a29d",
   "metadata": {},
   "outputs": [
    {
     "name": "stdout",
     "output_type": "stream",
     "text": [
      "Number of duplicate rows: 403\n"
     ]
    }
   ],
   "source": [
    "#Check for duplicate values\n",
    "duplicates = df.duplicated()\n",
    "print(f\"Number of duplicate rows: {duplicates.sum()}\")\n"
   ]
  },
  {
   "cell_type": "code",
   "execution_count": 17,
   "id": "596c326b-5faf-4c1c-9887-9766238681f5",
   "metadata": {},
   "outputs": [
    {
     "name": "stdout",
     "output_type": "stream",
     "text": [
      "Number of duplicate rows: 0\n"
     ]
    }
   ],
   "source": [
    "# There seem to be 403 duplicate values so we are removing the duplicates\n",
    "df = df.drop_duplicates(keep ='first')\n",
    "# Now let's check the total number of duplicates.\n",
    "duplicates = df.duplicated()\n",
    "print(f\"Number of duplicate rows: {duplicates.sum()}\")"
   ]
  },
  {
   "cell_type": "code",
   "execution_count": 18,
   "id": "412132fb-37cd-4612-a30c-46432fdb0479",
   "metadata": {},
   "outputs": [
    {
     "data": {
      "text/plain": [
       "(5169, 2)"
      ]
     },
     "execution_count": 18,
     "metadata": {},
     "output_type": "execute_result"
    }
   ],
   "source": [
    "df.shape"
   ]
  },
  {
   "cell_type": "markdown",
   "id": "b80978a2-dd4c-4969-96aa-2e5eb87d5606",
   "metadata": {},
   "source": [
    "## Data Analysis"
   ]
  },
  {
   "cell_type": "code",
   "execution_count": 19,
   "id": "7b90cc66-034f-43ea-ac43-87ff153676b8",
   "metadata": {},
   "outputs": [
    {
     "data": {
      "text/html": [
       "<div>\n",
       "<style scoped>\n",
       "    .dataframe tbody tr th:only-of-type {\n",
       "        vertical-align: middle;\n",
       "    }\n",
       "\n",
       "    .dataframe tbody tr th {\n",
       "        vertical-align: top;\n",
       "    }\n",
       "\n",
       "    .dataframe thead th {\n",
       "        text-align: right;\n",
       "    }\n",
       "</style>\n",
       "<table border=\"1\" class=\"dataframe\">\n",
       "  <thead>\n",
       "    <tr style=\"text-align: right;\">\n",
       "      <th></th>\n",
       "      <th>target</th>\n",
       "      <th>text</th>\n",
       "    </tr>\n",
       "  </thead>\n",
       "  <tbody>\n",
       "    <tr>\n",
       "      <th>0</th>\n",
       "      <td>0</td>\n",
       "      <td>Go until jurong point, crazy.. Available only ...</td>\n",
       "    </tr>\n",
       "    <tr>\n",
       "      <th>1</th>\n",
       "      <td>0</td>\n",
       "      <td>Ok lar... Joking wif u oni...</td>\n",
       "    </tr>\n",
       "    <tr>\n",
       "      <th>2</th>\n",
       "      <td>1</td>\n",
       "      <td>Free entry in 2 a wkly comp to win FA Cup fina...</td>\n",
       "    </tr>\n",
       "    <tr>\n",
       "      <th>3</th>\n",
       "      <td>0</td>\n",
       "      <td>U dun say so early hor... U c already then say...</td>\n",
       "    </tr>\n",
       "    <tr>\n",
       "      <th>4</th>\n",
       "      <td>0</td>\n",
       "      <td>Nah I don't think he goes to usf, he lives aro...</td>\n",
       "    </tr>\n",
       "  </tbody>\n",
       "</table>\n",
       "</div>"
      ],
      "text/plain": [
       "   target                                               text\n",
       "0       0  Go until jurong point, crazy.. Available only ...\n",
       "1       0                      Ok lar... Joking wif u oni...\n",
       "2       1  Free entry in 2 a wkly comp to win FA Cup fina...\n",
       "3       0  U dun say so early hor... U c already then say...\n",
       "4       0  Nah I don't think he goes to usf, he lives aro..."
      ]
     },
     "execution_count": 19,
     "metadata": {},
     "output_type": "execute_result"
    }
   ],
   "source": [
    "df.head()"
   ]
  },
  {
   "cell_type": "code",
   "execution_count": 20,
   "id": "2b3995aa-cc52-4b61-bb34-ca7d2780b08b",
   "metadata": {},
   "outputs": [
    {
     "data": {
      "text/plain": [
       "target\n",
       "0    4516\n",
       "1     653\n",
       "Name: count, dtype: int64"
      ]
     },
     "execution_count": 20,
     "metadata": {},
     "output_type": "execute_result"
    }
   ],
   "source": [
    "df['target'].value_counts()"
   ]
  },
  {
   "cell_type": "code",
   "execution_count": 21,
   "id": "4c90d7c0-9ab4-4690-aa0c-57f66861f110",
   "metadata": {},
   "outputs": [
    {
     "data": {
      "text/plain": [
       "([<matplotlib.patches.Wedge at 0x1e2ae8f5db0>,\n",
       "  <matplotlib.patches.Wedge at 0x1e2ae8f5cc0>],\n",
       " [Text(-1.0144997251399075, 0.4251944351600247, 'ham'),\n",
       "  Text(1.014499764949479, -0.4251943401757036, 'spam')],\n",
       " [Text(-0.5533634864399495, 0.23192423736001344, '87.37'),\n",
       "  Text(0.5533635081542612, -0.23192418555038377, '12.63')])"
      ]
     },
     "execution_count": 21,
     "metadata": {},
     "output_type": "execute_result"
    },
    {
     "data": {
      "image/png": "[encoded data removed]",
      "text/plain": [
       "<Figure size 640x480 with 1 Axes>"
      ]
     },
     "metadata": {},
     "output_type": "display_data"
    }
   ],
   "source": [
    "import matplotlib.pyplot as plt\n",
    "plt.pie(df['target'].value_counts(),labels=['ham','spam'],autopct=\"%0.2f\")"
   ]
  },
  {
   "cell_type": "markdown",
   "id": "2609ac33-6cf1-44ae-bde8-57376b3d1b7c",
   "metadata": {},
   "source": [
    "87% data is not spam only 12.63 is spam which means the data is imbalanced."
   ]
  },
  {
   "cell_type": "code",
   "execution_count": 22,
   "id": "a08b7f41-d326-4d40-bb7e-3bd40da91796",
   "metadata": {},
   "outputs": [],
   "source": [
    "import nltk"
   ]
  },
  {
   "cell_type": "code",
   "execution_count": 23,
   "id": "8005f744-f59b-40c5-9249-d46ea8a669b3",
   "metadata": {},
   "outputs": [
    {
     "name": "stderr",
     "output_type": "stream",
     "text": [
      "[nltk_data] Downloading package punkt to C:\\Users\\Ardra\n",
      "[nltk_data]     Ajay\\AppData\\Roaming\\nltk_data...\n",
      "[nltk_data]   Package punkt is already up-to-date!\n"
     ]
    },
    {
     "data": {
      "text/plain": [
       "True"
      ]
     },
     "execution_count": 23,
     "metadata": {},
     "output_type": "execute_result"
    }
   ],
   "source": [
    "nltk.download('punkt')"
   ]
  },
  {
   "cell_type": "code",
   "execution_count": 24,
   "id": "a42f9936-047d-4a0a-b743-42e6ceaa0a8d",
   "metadata": {},
   "outputs": [],
   "source": [
    "df['num_charecters']= df['text'].apply(len) # length of very sms"
   ]
  },
  {
   "cell_type": "code",
   "execution_count": 25,
   "id": "fb4ea46f-916d-4b70-8451-9fc15fbfd160",
   "metadata": {},
   "outputs": [
    {
     "data": {
      "text/html": [
       "<div>\n",
       "<style scoped>\n",
       "    .dataframe tbody tr th:only-of-type {\n",
       "        vertical-align: middle;\n",
       "    }\n",
       "\n",
       "    .dataframe tbody tr th {\n",
       "        vertical-align: top;\n",
       "    }\n",
       "\n",
       "    .dataframe thead th {\n",
       "        text-align: right;\n",
       "    }\n",
       "</style>\n",
       "<table border=\"1\" class=\"dataframe\">\n",
       "  <thead>\n",
       "    <tr style=\"text-align: right;\">\n",
       "      <th></th>\n",
       "      <th>target</th>\n",
       "      <th>text</th>\n",
       "      <th>num_charecters</th>\n",
       "    </tr>\n",
       "  </thead>\n",
       "  <tbody>\n",
       "    <tr>\n",
       "      <th>0</th>\n",
       "      <td>0</td>\n",
       "      <td>Go until jurong point, crazy.. Available only ...</td>\n",
       "      <td>111</td>\n",
       "    </tr>\n",
       "    <tr>\n",
       "      <th>1</th>\n",
       "      <td>0</td>\n",
       "      <td>Ok lar... Joking wif u oni...</td>\n",
       "      <td>29</td>\n",
       "    </tr>\n",
       "    <tr>\n",
       "      <th>2</th>\n",
       "      <td>1</td>\n",
       "      <td>Free entry in 2 a wkly comp to win FA Cup fina...</td>\n",
       "      <td>155</td>\n",
       "    </tr>\n",
       "    <tr>\n",
       "      <th>3</th>\n",
       "      <td>0</td>\n",
       "      <td>U dun say so early hor... U c already then say...</td>\n",
       "      <td>49</td>\n",
       "    </tr>\n",
       "    <tr>\n",
       "      <th>4</th>\n",
       "      <td>0</td>\n",
       "      <td>Nah I don't think he goes to usf, he lives aro...</td>\n",
       "      <td>61</td>\n",
       "    </tr>\n",
       "  </tbody>\n",
       "</table>\n",
       "</div>"
      ],
      "text/plain": [
       "   target                                               text  num_charecters\n",
       "0       0  Go until jurong point, crazy.. Available only ...             111\n",
       "1       0                      Ok lar... Joking wif u oni...              29\n",
       "2       1  Free entry in 2 a wkly comp to win FA Cup fina...             155\n",
       "3       0  U dun say so early hor... U c already then say...              49\n",
       "4       0  Nah I don't think he goes to usf, he lives aro...              61"
      ]
     },
     "execution_count": 25,
     "metadata": {},
     "output_type": "execute_result"
    }
   ],
   "source": [
    "df.head()"
   ]
  },
  {
   "cell_type": "code",
   "execution_count": 26,
   "id": "c83d3a8b-9d3d-4eb4-a8a6-71eb29d01622",
   "metadata": {},
   "outputs": [],
   "source": [
    "#Fetch the number of words\n",
    "# We are breaking all the sms by words\n",
    "df['num_words'] = df['text'].apply(lambda x:len(nltk.word_tokenize(x)))"
   ]
  },
  {
   "cell_type": "code",
   "execution_count": null,
   "id": "cc3734f5-30ee-4193-9d3c-2ad72040cea8",
   "metadata": {},
   "outputs": [
    {
     "data": {
      "text/html": [
       "<div>\n",
       "<style scoped>\n",
       "    .dataframe tbody tr th:only-of-type {\n",
       "        vertical-align: middle;\n",
       "    }\n",
       "\n",
       "    .dataframe tbody tr th {\n",
       "        vertical-align: top;\n",
       "    }\n",
       "\n",
       "    .dataframe thead th {\n",
       "        text-align: right;\n",
       "    }\n",
       "</style>\n",
       "<table border=\"1\" class=\"dataframe\">\n",
       "  <thead>\n",
       "    <tr style=\"text-align: right;\">\n",
       "      <th></th>\n",
       "      <th>target</th>\n",
       "      <th>text</th>\n",
       "      <th>num_charecters</th>\n",
       "      <th>num_words</th>\n",
       "    </tr>\n",
       "  </thead>\n",
       "  <tbody>\n",
       "    <tr>\n",
       "      <th>0</th>\n",
       "      <td>0</td>\n",
       "      <td>Go until jurong point, crazy.. Available only ...</td>\n",
       "      <td>111</td>\n",
       "      <td>24</td>\n",
       "    </tr>\n",
       "    <tr>\n",
       "      <th>1</th>\n",
       "      <td>0</td>\n",
       "      <td>Ok lar... Joking wif u oni...</td>\n",
       "      <td>29</td>\n",
       "      <td>8</td>\n",
       "    </tr>\n",
       "    <tr>\n",
       "      <th>2</th>\n",
       "      <td>1</td>\n",
       "      <td>Free entry in 2 a wkly comp to win FA Cup fina...</td>\n",
       "      <td>155</td>\n",
       "      <td>37</td>\n",
       "    </tr>\n",
       "    <tr>\n",
       "      <th>3</th>\n",
       "      <td>0</td>\n",
       "      <td>U dun say so early hor... U c already then say...</td>\n",
       "      <td>49</td>\n",
       "      <td>13</td>\n",
       "    </tr>\n",
       "    <tr>\n",
       "      <th>4</th>\n",
       "      <td>0</td>\n",
       "      <td>Nah I don't think he goes to usf, he lives aro...</td>\n",
       "      <td>61</td>\n",
       "      <td>15</td>\n",
       "    </tr>\n",
       "  </tbody>\n",
       "</table>\n",
       "</div>"
      ],
      "text/plain": [
       "   target                                               text  num_charecters  \\\n",
       "0       0  Go until jurong point, crazy.. Available only ...             111   \n",
       "1       0                      Ok lar... Joking wif u oni...              29   \n",
       "2       1  Free entry in 2 a wkly comp to win FA Cup fina...             155   \n",
       "3       0  U dun say so early hor... U c already then say...              49   \n",
       "4       0  Nah I don't think he goes to usf, he lives aro...              61   \n",
       "\n",
       "   num_words  \n",
       "0         24  \n",
       "1          8  \n",
       "2         37  \n",
       "3         13  \n",
       "4         15  "
      ]
     },
     "execution_count": 27,
     "metadata": {},
     "output_type": "execute_result"
    }
   ],
   "source": [
    "df.head()"
   ]
  },
  {
   "cell_type": "code",
   "execution_count": null,
   "id": "25acd553-11c9-4ddd-bfca-466682361d37",
   "metadata": {},
   "outputs": [],
   "source": [
    "df['num_sentences'] = df['text'].apply(lambda x: len(nltk.sent_tokenize(x)))"
   ]
  },
  {
   "cell_type": "code",
   "execution_count": null,
   "id": "a653ef47-b78a-4e3a-b4dc-6cd841ca7182",
   "metadata": {},
   "outputs": [],
   "source": [
    "df.head()"
   ]
  },
  {
   "cell_type": "code",
   "execution_count": null,
   "id": "e2b87931-5452-4d25-89e9-6cd082d413b8",
   "metadata": {},
   "outputs": [],
   "source": [
    "df[['num_charecters' , 'num_words' , 'num_sentences']].describe()"
   ]
  },
  {
   "cell_type": "markdown",
   "id": "20064c3c-541f-4eab-95b3-525b7a076581",
   "metadata": {},
   "source": [
    "##  Analysis of Ham"
   ]
  },
  {
   "cell_type": "code",
   "execution_count": null,
   "id": "964705a2-9dde-4baa-abaa-8352a825c961",
   "metadata": {},
   "outputs": [],
   "source": [
    "df[df['target']== 0][['num_charecters' , 'num_words' , 'num_sentences']].describe()"
   ]
  },
  {
   "cell_type": "markdown",
   "id": "1244846f-ba3a-4d10-b7ec-6cc4c7efa3de",
   "metadata": {},
   "source": [
    "## Analysis of Spam"
   ]
  },
  {
   "cell_type": "code",
   "execution_count": null,
   "id": "5be5feee-b91e-41ab-ad4e-dd9de98b31ba",
   "metadata": {},
   "outputs": [],
   "source": [
    "df[df['target']==1][['num_charecters', 'num_words' , 'num_sentences']].describe()"
   ]
  },
  {
   "cell_type": "code",
   "execution_count": null,
   "id": "a48853bc-2e8f-482f-a98a-45bfcc0b1d0a",
   "metadata": {},
   "outputs": [],
   "source": [
    "import seaborn as sns"
   ]
  },
  {
   "cell_type": "code",
   "execution_count": null,
   "id": "069dc69d-c214-4468-8cde-c66aa5271312",
   "metadata": {},
   "outputs": [],
   "source": [
    "plt.figure(figsize=(12,6))\n",
    "sns.histplot(df[df['target']==0]['num_charecters'], color = 'green')\n",
    "sns.histplot(df[df['target']==1]['num_charecters'], color='red')"
   ]
  },
  {
   "cell_type": "code",
   "execution_count": null,
   "id": "af368218-5343-412b-b1dc-e2c94fba7fe4",
   "metadata": {},
   "outputs": [],
   "source": [
    "plt.figure(figsize=(12,6))\n",
    "sns.histplot(df[df['target']==0]['num_words'],color='green')\n",
    "sns.histplot(df[df['target']==1]['num_words'],color='red')"
   ]
  },
  {
   "cell_type": "code",
   "execution_count": null,
   "id": "fefa3a1c-05e2-4d60-9ce8-aa6b76daed23",
   "metadata": {},
   "outputs": [],
   "source": [
    "# checking the relationship between the number of words and number of sentences\n",
    "plt.figure(figsize=(12,6))\n",
    "sns.pairplot(df,hue='target')\n",
    "# there are outliers in the data"
   ]
  },
  {
   "cell_type": "markdown",
   "id": "afbe63ef-2fea-4dc3-85c4-0b8b91f2d8e1",
   "metadata": {},
   "source": [
    "## Looking for correlations"
   ]
  },
  {
   "cell_type": "code",
   "execution_count": null,
   "id": "d521581e-3a7e-4c3a-b9bf-7dd68f91bc84",
   "metadata": {},
   "outputs": [],
   "source": [
    "corr_matrix = df[['target','num_charecters', 'num_words' , 'num_sentences']].corr()\n",
    "print(corr_matrix)"
   ]
  },
  {
   "cell_type": "code",
   "execution_count": null,
   "id": "b40ce5a8-e845-4176-8285-f7927f012839",
   "metadata": {},
   "outputs": [],
   "source": [
    "sns.heatmap(data=corr_matrix, annot=True)"
   ]
  },
  {
   "cell_type": "markdown",
   "id": "db4467f1-6fb6-4147-bccc-2f880411f4d4",
   "metadata": {},
   "source": [
    "here we see that num_charecters is giving most high correleation with target so we choosed num_charecters for model"
   ]
  },
  {
   "cell_type": "markdown",
   "id": "f18b9065-c6b1-4b81-b6af-bb1fb9f29b5a",
   "metadata": {},
   "source": [
    "## Data Preprocessing"
   ]
  },
  {
   "cell_type": "markdown",
   "id": "59a2151d-4431-4447-b881-561c6134ff73",
   "metadata": {},
   "source": [
    " 1) we convert the data (text) to lower case. (using text.lower() )\n",
    "\n",
    " 2) we break the data into words (using nltk.word_tokenize)\n",
    "\n",
    " 3) we remove all the special charecters (by creating a list and appending only words [ after breaking sentences into words using tokenize and numbers)\n",
    "\n",
    " 4) we remove stop words ike is of which does not really add much meaning to the sentence. (from nltk.corpus import stopwords)\n",
    "\n",
    " 5) we remove all the punctuations. (using string.punctuation\n",
    "\n",
    " 6) we perform stemming, same type of words in diffrent tenses are converted to one eg: play, played, plays will get convert to play."
   ]
  },
  {
   "cell_type": "code",
   "execution_count": null,
   "id": "37bee92f-2795-4b7b-9189-772a5e67e28f",
   "metadata": {},
   "outputs": [],
   "source": [
    "import nltk\n",
    "import string\n",
    "from nltk.corpus import stopwords\n",
    "nltk.download('stopwords')\n",
    "from nltk.stem.porter import PorterStemmer\n",
    "ps = PorterStemmer()\n",
    "\n",
    "def transform_text(text):\n",
    "    text = text.lower()  # Converting the text to lowercase\n",
    "    text = nltk.word_tokenize(text)  # Breaking the sentences into words\n",
    "\n",
    "    y = []  # Create the list y outside the loop\n",
    "    for i in text:\n",
    "        if i.isalnum():  # Only taking alphabets and numbers\n",
    "            y.append(i)  # Appending to y\n",
    "\n",
    "    processed_text = \"\"  # Initialize an empty string\n",
    "    for word in y:  # Iterate through the processed words\n",
    "        if word not in stopwords.words('english') and word not in string.punctuation:\n",
    "            processed_text += word + \" \"  # Concatenate words with spaces\n",
    "\n",
    "    return processed_text.strip()  # Remove trailing space"
   ]
  },
  {
   "cell_type": "code",
   "execution_count": null,
   "id": "f8a3e165-5283-4254-a5d8-8285a22586e7",
   "metadata": {},
   "outputs": [],
   "source": [
    "#stopwords.words('english') \n",
    "#(this is too long all the stop words diplayed so put it in comment for reference"
   ]
  },
  {
   "cell_type": "code",
   "execution_count": null,
   "id": "6fa8aa2c-63be-4611-afab-35a89633577c",
   "metadata": {},
   "outputs": [],
   "source": [
    "#See all the punctualios that come under string\n",
    "string.punctuation"
   ]
  },
  {
   "cell_type": "code",
   "execution_count": null,
   "id": "0de06fdd-be93-4bf8-9a23-60ec3bb4ecfe",
   "metadata": {},
   "outputs": [],
   "source": [
    "ps.stem(\"Loving\")"
   ]
  },
  {
   "cell_type": "code",
   "execution_count": null,
   "id": "153f68c0-63fa-45b7-8ff3-4373e1b42a1a",
   "metadata": {},
   "outputs": [],
   "source": [
    "transform_text(\" I loved the way she was Talking. How about you?\") \n",
    "# stemming will remove present continous and past to simple present tense."
   ]
  },
  {
   "cell_type": "code",
   "execution_count": null,
   "id": "e676fe1d-222a-4fcb-a0fb-ff6e84b741f4",
   "metadata": {},
   "outputs": [],
   "source": [
    "df['text'][10]"
   ]
  },
  {
   "cell_type": "code",
   "execution_count": null,
   "id": "695bf07e-4ef3-4723-a8f9-37466e91505c",
   "metadata": {},
   "outputs": [],
   "source": [
    "df['transformed_text'] = df['text'].apply(transform_text)    #Creating a new coloumn called transformed text"
   ]
  },
  {
   "cell_type": "code",
   "execution_count": null,
   "id": "362ef93a-9f6c-4cfa-94cd-65acbe016139",
   "metadata": {},
   "outputs": [],
   "source": [
    "print(df['transformed_text'].dtype)"
   ]
  },
  {
   "cell_type": "code",
   "execution_count": null,
   "id": "246f2897-0460-4dd8-8836-c60e9e8924fc",
   "metadata": {},
   "outputs": [],
   "source": [
    "df.head()"
   ]
  },
  {
   "cell_type": "raw",
   "id": "974cb80f-37bd-4543-b54d-d154d35eb507",
   "metadata": {},
   "source": [
    "wordcloud module will highlight the important words"
   ]
  },
  {
   "cell_type": "code",
   "execution_count": null,
   "id": "90070b3d-5aa4-480b-9077-6b65eb89c20c",
   "metadata": {},
   "outputs": [],
   "source": [
    "from wordcloud import WordCloud\n",
    "wc = WordCloud(width=500,height=500,min_font_size=10,background_color = 'white')"
   ]
  },
  {
   "cell_type": "code",
   "execution_count": null,
   "id": "56e91936-63c0-468a-acba-75479c92eb1f",
   "metadata": {},
   "outputs": [],
   "source": [
    "spam_wc = wc.generate(df[df['target']==1]['transformed_text'].astype(str).str.cat(sep=\" \"))\n",
    "# here we are chosing those rows that are spam and extracting the transformed text and taking the string in it and concatinating with space."
   ]
  },
  {
   "cell_type": "code",
   "execution_count": null,
   "id": "ae5bf904-3f2f-4772-aca5-d646477d9eb8",
   "metadata": {},
   "outputs": [],
   "source": [
    "plt.imshow(spam_wc)"
   ]
  },
  {
   "cell_type": "code",
   "execution_count": null,
   "id": "a7159a10-4697-4662-ae38-d4f900d64d30",
   "metadata": {},
   "outputs": [],
   "source": [
    "ham_wc = wc.generate(df[df['target']==0]['transformed_text'].astype(str).str.cat(sep=\" \"))\n",
    "plt.imshow(spam_wc)"
   ]
  },
  {
   "cell_type": "code",
   "execution_count": null,
   "id": "59988b04-e9d2-4637-907a-498107e5f382",
   "metadata": {},
   "outputs": [],
   "source": [
    "df.head()"
   ]
  },
  {
   "cell_type": "code",
   "execution_count": null,
   "id": "83b1a779-5ada-4a4d-9676-119f4f2cd2ad",
   "metadata": {},
   "outputs": [],
   "source": [
    "spam_corpus = []\n",
    "for msg in df[df['target']==1]['transformed_text'].tolist():\n",
    "    for word in msg:  # Accessing each string directly\n",
    "        spam_corpus.append(word)"
   ]
  },
  {
   "cell_type": "code",
   "execution_count": null,
   "id": "d76738cb-6909-4c04-b94f-58fba9642b89",
   "metadata": {},
   "outputs": [],
   "source": [
    "len(spam_corpus)"
   ]
  },
  {
   "cell_type": "code",
   "execution_count": null,
   "id": "36547ef0-4f2d-412d-90ff-21e816de8771",
   "metadata": {},
   "outputs": [],
   "source": [
    "from collections import Counter\n",
    "pd.DataFrame(Counter(spam_corpus).most_common(10))"
   ]
  },
  {
   "cell_type": "code",
   "execution_count": null,
   "id": "ac356f5f-23b2-4dda-b23a-0337100202bc",
   "metadata": {},
   "outputs": [],
   "source": [
    "#sns.barplot(pd.DataFrame(Counter(spam_corpus).most_common(30))[0], pd.DataFrame(Counter(spam_corpus).most_common(30))[1])"
   ]
  },
  {
   "cell_type": "code",
   "execution_count": null,
   "id": "50392599-6a7f-47b8-a3b8-e082c4da06d6",
   "metadata": {},
   "outputs": [],
   "source": [
    "dfcopy1 =df.copy()\n",
    "dfcopy1 = pd.DataFrame(Counter(spam_corpus).most_common(30), columns=['word', 'count'])\n",
    "sns.barplot(data=dfcopy1, x='word', y='count')\n",
    "plt.xticks(rotation='vertical')\n",
    "plt.show()"
   ]
  },
  {
   "cell_type": "code",
   "execution_count": null,
   "id": "e40de55d-279d-47cb-854d-baca5dc3d863",
   "metadata": {},
   "outputs": [],
   "source": [
    "ham_corpus = []\n",
    "for msg in df[df['target']==0]['transformed_text'].tolist():\n",
    "    for word in msg:  # Accessing each string directly\n",
    "        ham_corpus.append(word)"
   ]
  },
  {
   "cell_type": "code",
   "execution_count": null,
   "id": "582819fe-ad06-4360-90ed-84c991288a3f",
   "metadata": {},
   "outputs": [],
   "source": [
    "len(ham_corpus)"
   ]
  },
  {
   "cell_type": "code",
   "execution_count": null,
   "id": "9d35971f-4002-47c9-bb1d-5bdc9739b2ef",
   "metadata": {},
   "outputs": [],
   "source": [
    "from collections import Counter\n",
    "pd.DataFrame(Counter(ham_corpus).most_common(10))"
   ]
  },
  {
   "cell_type": "code",
   "execution_count": null,
   "id": "ef120d36-ab37-4cbc-a328-1a3345e05d45",
   "metadata": {},
   "outputs": [],
   "source": [
    "dfcopy2 = df.copy()\n",
    "dfcopy2 = pd.DataFrame(Counter(ham_corpus).most_common(30), columns=['word', 'count'])\n",
    "sns.barplot(data=dfcopy2, x='word', y='count')\n",
    "plt.xticks(rotation='vertical')\n",
    "plt.show()"
   ]
  },
  {
   "cell_type": "markdown",
   "id": "57796fb9-83d4-4122-a8f5-2c3124dd003c",
   "metadata": {},
   "source": [
    "## Model Building"
   ]
  },
  {
   "cell_type": "code",
   "execution_count": null,
   "id": "3ba96859-1906-4bf6-ab90-e7c8433c9a22",
   "metadata": {},
   "outputs": [],
   "source": [
    "df.head()"
   ]
  },
  {
   "cell_type": "markdown",
   "id": "27f05a05-72ff-4692-b890-7be519224236",
   "metadata": {},
   "source": [
    "Any machine learning algoritm needs a numerical input here as we can see that our input is transformed text and output is target.\n",
    "we need to convert our input that is transformed text to numbers for that we we have to vectorize transformed text\n",
    "there are a few methods with which we can convert text to numbers that is perform vectorization\n",
    "\n",
    "1) Bag of words model : we make a new column of frequent words and we will compare with each text data on how many time the frequent words appear.\n",
    "the number of times it appears ( that is the frequency) are the numbers that becomes the vectors.\n",
    "\n",
    "2) Term Frequency - Inverse Document Frequency (TF-IDF) model : tells us how often each word appears, giving you its Term Frequency (TF).\n",
    "Give more weight to rarer words.  Words like \"the\" or \"and\" appear often but aren't very informative. TF-IDF lowers the value of common words by calculating their Inverse Document Frequency (IDF). Multiply TF and IDF.  This gives us the final TF-IDF score for each word in each document.\n",
    "then turn text into a list of numbers.\n",
    "\n",
    "3) Word2vec model: It creates a word dictionary, assigning each word a unique number (like a secret code).It tries to predict nearby words based on the current word. It adjusts word numbers as it learns, so that words that often appear together have similar numbers"
   ]
  },
  {
   "cell_type": "code",
   "execution_count": null,
   "id": "308f1760-2858-41c6-b8db-5269b841093d",
   "metadata": {},
   "outputs": [],
   "source": [
    "from sklearn.feature_extraction.text import CountVectorizer,TfidfVectorizer\n",
    "cv = CountVectorizer()\n",
    "tfidf = TfidfVectorizer()"
   ]
  },
  {
   "cell_type": "code",
   "execution_count": null,
   "id": "67a8c07c-88a6-4c79-b661-1d22281f3bfa",
   "metadata": {},
   "outputs": [],
   "source": [
    " X = tfidf.fit_transform(df['transformed_text']).toarray()"
   ]
  },
  {
   "cell_type": "code",
   "execution_count": null,
   "id": "8d7b2b08-0d86-42e7-9702-658669b035cb",
   "metadata": {},
   "outputs": [],
   "source": [
    "X.shape"
   ]
  },
  {
   "cell_type": "code",
   "execution_count": null,
   "id": "118ea556-ad8c-4a87-aa80-224c365aae56",
   "metadata": {},
   "outputs": [],
   "source": [
    "Y = df[['target']].values"
   ]
  },
  {
   "cell_type": "code",
   "execution_count": null,
   "id": "ec2f8d9f-d288-4552-bfdb-8f211c9e0d49",
   "metadata": {},
   "outputs": [],
   "source": [
    "Y.shape"
   ]
  },
  {
   "cell_type": "markdown",
   "id": "8c7c5d89-2b0b-444a-9901-5c0284a9245a",
   "metadata": {},
   "source": [
    "## Train - Test Splitting"
   ]
  },
  {
   "cell_type": "code",
   "execution_count": null,
   "id": "4848081e-6a43-4ab0-8bba-04451503efc5",
   "metadata": {},
   "outputs": [],
   "source": [
    "from sklearn.model_selection import StratifiedKFold\n",
    "from sklearn.impute import SimpleImputer"
   ]
  },
  {
   "cell_type": "code",
   "execution_count": null,
   "id": "eb250d78-e14d-4f07-9887-92371f57c6de",
   "metadata": {},
   "outputs": [],
   "source": [
    "imputer = SimpleImputer(strategy='mean')\n",
    "X = imputer.fit_transform(X)\n",
    "Y = imputer.fit_transform(Y)\n",
    "skf = StratifiedKFold(n_splits=5, shuffle=True, random_state=42)  # Set random_state for reproducibility\n",
    "for train_index, test_index in skf.split(X, Y):\n",
    "    X_train, X_test = X[train_index], X[test_index]\n",
    "    Y_train, Y_test = Y[train_index], Y[test_index]"
   ]
  },
  {
   "cell_type": "raw",
   "id": "f02c8f0c-0942-4d79-a20a-39d628291d3e",
   "metadata": {},
   "source": [
    "#Checking if the proportion of test set and train set is equal\n",
    "\n",
    "for train_index, test_index in skf.split(X, Y):\n",
    "    X_train, X_test = X[train_index], X[test_index]\n",
    "    Y_train, Y_test = Y[train_index], Y[test_index]\n",
    "\n",
    "    # Reshape Y_train and Y_test if necessary\n",
    "    #if len(Y_train.shape) > 1:\n",
    "       # Y_train = Y_train.reshape(-1)\n",
    "    #if len(Y_test.shape) > 1:\n",
    "        #Y_test = Y_test.reshape(-1)\n",
    "\n",
    "    # Print value counts for Y_train and Y_test\n",
    "    print(\"Value counts in Y_train:\")\n",
    "    print(pd.Series(Y_train).value_counts())\n",
    "    print(\"Value counts in Y_test:\")\n",
    "    print(pd.Series(Y_test).value_counts())\n",
    "\n",
    "    # Reshape X_train and X_test if necessary (only if needed for value_counts)\n",
    "    #if len(X_train.shape) > 1:\n",
    "       # X_train = X_train.reshape(-1)\n",
    "    print(\"Value counts in X_train:\")\n",
    "    print(pd.Series(X_train).value_counts())\n",
    "    #if len(X_test.shape) > 1:\n",
    "       # X_test = X_test.reshape(-1)  # Corrected the assignment here\n",
    "    print(\"Value counts in X_test:\")\n",
    "    print(pd.Series(X_test).value_counts())\n"
   ]
  },
  {
   "cell_type": "markdown",
   "id": "1e3fdb9f-f70c-4b4c-960e-caa540f373e3",
   "metadata": {},
   "source": [
    "## Selecting The Desired Model"
   ]
  },
  {
   "cell_type": "markdown",
   "id": "ee6b0f72-0022-4d28-9c7d-158a98be0b7e",
   "metadata": {},
   "source": [
    "Naive Bayes is one of the most popular text classification algorithms which gives very good results.\n",
    "\n",
    "1. Gaussian Naive Bayes:\n",
    "\n",
    "Assumes features follow a Gaussian (normal) distribution.\n",
    "Suitable for continuous features like height, weight, or temperature.\n",
    "Not ideal for categorical features like hair color or occupation.\n",
    "\n",
    "2. Multinomial Naive Bayes:\n",
    "\n",
    "Assumes features follow a multinomial distribution.\n",
    "Useful for count data, like word occurrences in a document or frequency of different values in a categorical feature.\n",
    "Not ideal for continuous features or features with large variances.\n",
    "\n",
    "3. Bernoulli Naive Bayes:\n",
    "\n",
    "Assumes features are binary (present or not present).\n",
    "Applicable to features like \"has email address\" or \"likes chocolate.\"\n",
    "Not appropriate for features with multiple values or continuous data.ntinuous data."
   ]
  },
  {
   "cell_type": "code",
   "execution_count": null,
   "id": "4f03b0d6-cc55-45c2-ab2c-d5ea19825c32",
   "metadata": {},
   "outputs": [],
   "source": [
    "from sklearn.naive_bayes import  GaussianNB, MultinomialNB, BernoulliNB\n",
    "from sklearn.metrics import accuracy_score,confusion_matrix, precision_score"
   ]
  },
  {
   "cell_type": "markdown",
   "id": "6bd814ee-0a61-4aa3-a759-e570e3f93f07",
   "metadata": {},
   "source": [
    "accuracy_score: To measure overall model accuracy, gives a general sense of how accurate the model is overall.\r\n",
    "confusion_matrix: To create a table showing correct and incorrect predictions in detai, offers a deeper look into where the model makes mistakes..\r\n",
    "precision_score: To measure the model's accuracy in identifying positive cas, focuses on how well the model identifies specific cases like spam.s."
   ]
  },
  {
   "cell_type": "code",
   "execution_count": null,
   "id": "9be9a6e6-e575-4400-9f75-dda1e33393b3",
   "metadata": {},
   "outputs": [],
   "source": [
    "gnb = GaussianNB()\n",
    "mnb = MultinomialNB()\n",
    "bnb = BernoulliNB()"
   ]
  },
  {
   "cell_type": "markdown",
   "id": "669d0257-ae7d-4e63-b028-0a987e4f9e88",
   "metadata": {},
   "source": [
    "## Gaussian Naive Bayes Model"
   ]
  },
  {
   "cell_type": "code",
   "execution_count": null,
   "id": "f6d2969e-af1c-42b2-a3b8-ba2030a110c3",
   "metadata": {},
   "outputs": [],
   "source": [
    "gnb.fit(X_train,Y_train)\n",
    "Y_pred1= gnb.predict(X_test)\n",
    "print(accuracy_score(Y_test,Y_pred1))\n",
    "print(confusion_matrix(Y_test,Y_pred1))\n",
    "print(precision_score(Y_test,Y_pred1))"
   ]
  },
  {
   "cell_type": "markdown",
   "id": "d0a97bf0-d9f2-42cd-80fb-48f69389eef4",
   "metadata": {},
   "source": [
    "Gaussian Naive Bayes Model with  Count Vectorizer, a text preprocessing technique is giving bad results\n",
    "\n",
    "--> Accuracy Score = 0.8780251694094869 \n",
    "--> Precision Score = 0.5086206896551724\n",
    "\n",
    "Gaussian Naive Bayes Model with TF-IDF , a text preprocessing technique is giving bad results\n",
    "\n",
    "--> Accuracy Score = 0.8770571151984511\n",
    "--> Precision Score = 0.5065502183406113"
   ]
  },
  {
   "cell_type": "markdown",
   "id": "426f8e75-3764-44bd-b0fd-4187bae25988",
   "metadata": {},
   "source": [
    "## Multinomial Naive Bayes Model"
   ]
  },
  {
   "cell_type": "code",
   "execution_count": null,
   "id": "da26f4a3-9004-400f-b507-7f8d8944e33f",
   "metadata": {},
   "outputs": [],
   "source": [
    "mnb.fit(X_train,Y_train)\n",
    "Y_pred2= mnb.predict(X_test)\n",
    "print(accuracy_score(Y_test,Y_pred2))\n",
    "print(confusion_matrix(Y_test,Y_pred2))\n",
    "print(precision_score(Y_test,Y_pred2))"
   ]
  },
  {
   "cell_type": "markdown",
   "id": "3d663899-10b7-4265-91a3-b2475a1426e0",
   "metadata": {},
   "source": [
    "Multinomial Naive Bayes Model with  Count Vectorizer, a text preprocessing technique is giving pretty good results\n",
    "\n",
    "--> Accuracy Score = 0.9757986447241046\n",
    "--> Precision Score = 0.8776978417266187\n",
    "\n",
    "Note: The data is imbalanced so we need to that we get the best precision score it's fine it the accuracy score is not best just good enough.\n",
    "\n",
    "Multinomial Naive Bayes Model with TF-IDF , a text preprocessing technique is giving very good accuracy score and perfect precision score.\n",
    "\n",
    "--> Accuracy Score = 0.957405614714424\n",
    "--> Precision Score = 1.0\n",
    "\n",
    "Note : Precision Score is 1 which means not a single false positive"
   ]
  },
  {
   "cell_type": "markdown",
   "id": "533efc35-3a99-4ed5-8c2c-5896ada7742e",
   "metadata": {},
   "source": [
    "## Bernoulli Naive Bayes Model"
   ]
  },
  {
   "cell_type": "code",
   "execution_count": null,
   "id": "f60e6429-e0d6-4e8c-b751-5cf3606a615d",
   "metadata": {},
   "outputs": [],
   "source": [
    "bnb.fit(X_train,Y_train)\n",
    "Y_pred3= bnb.predict(X_test)\n",
    "print(accuracy_score(Y_test,Y_pred3))\n",
    "print(confusion_matrix(Y_test,Y_pred3))\n",
    "print(precision_score(Y_test,Y_pred3))"
   ]
  },
  {
   "cell_type": "markdown",
   "id": "a9e2c7d8-3135-4dda-9199-6f28ceaa6060",
   "metadata": {},
   "source": [
    " Bernoulli Naive Bayes Model with  Count Vectorizer, a text preprocessing technique is giving pretty good results\n",
    " \n",
    "--> Accuracy Score = 0.9699903194578896\n",
    "--> Precision Score = 0.9714285714285714\n",
    "\n",
    " Bernoulli Naive Bayes Model with TF-IDF , a text preprocessing technique results\n",
    " \n",
    "--> Accuracy Score = 0.9699903194578896\n",
    "--> Precision Score = 0.9714285714285714"
   ]
  },
  {
   "cell_type": "markdown",
   "id": "bfbb3982-cc5d-4c7d-ab8b-51ed03a5b70f",
   "metadata": {},
   "source": [
    "Both Multinomial Naive Bayes (MNB) and Bernoulli Naive Bayes (BNB) models with TF-IDF exhibit high accuracy and precision scores. \n",
    "The perfect precision score of 1.0 in MNB raises a slight concern for potential overfitting.\n",
    "So the BNB model marginally outperforms MNB in terms of both accuracy and precision."
   ]
  },
  {
   "cell_type": "markdown",
   "id": "3972db83-d41a-441c-8ef7-09b433cfa182",
   "metadata": {},
   "source": [
    "## Trying out more models"
   ]
  },
  {
   "cell_type": "code",
   "execution_count": null,
   "id": "c8677c25-1708-4608-82d9-cf1b0d432e76",
   "metadata": {},
   "outputs": [],
   "source": [
    "from sklearn.linear_model import LogisticRegression\n",
    "from sklearn.svm import SVC \n",
    "from sklearn.naive_bayes import MultinomialNB\n",
    "from sklearn.tree import DecisionTreeClassifier\n",
    "from sklearn.neighbors import KNeighborsClassifier\n",
    "from sklearn.ensemble import RandomForestClassifier\n",
    "from sklearn.ensemble import AdaBoostClassifier\n",
    "from sklearn.ensemble import BaggingClassifier\n",
    "from sklearn.ensemble import ExtraTreesClassifier\n",
    "from sklearn.ensemble import GradientBoostingClassifier\n",
    "from xgboost import XGBClassifier"
   ]
  },
  {
   "cell_type": "code",
   "execution_count": null,
   "id": "4b3c5150-d00b-43e7-8843-5c47215dd8b4",
   "metadata": {},
   "outputs": [],
   "source": [
    "svc = SVC(kernel='sigmoid', gamma=1.0)\n",
    "knc = KNeighborsClassifier()\n",
    "mnb = MultinomialNB()\n",
    "dtc = DecisionTreeClassifier(max_depth=5)\n",
    "lrc = LogisticRegression(solver='liblinear', penalty='l1')  # Using L1 penalty\n",
    "rfc = RandomForestClassifier(n_estimators=50, random_state=2)\n",
    "abc = AdaBoostClassifier(n_estimators=50, random_state=2)\n",
    "bc = BaggingClassifier(n_estimators=50, random_state=2)\n",
    "etc = ExtraTreesClassifier(n_estimators=50, random_state=2)\n",
    "gbdt = GradientBoostingClassifier(n_estimators=50,random_state=2)\n",
    "xgb = XGBClassifier(n_estimators=50, random_state=2)"
   ]
  },
  {
   "cell_type": "code",
   "execution_count": null,
   "id": "7a2c7efb-91f8-47f9-91f1-110a03c47627",
   "metadata": {},
   "outputs": [],
   "source": [
    "clfs = {\n",
    "'Support Vector Classifier': svc,\n",
    "'Bernoulli Naive Bayes Model':bnb,\n",
    "'KNeighborsClassifier': knc,\n",
    "'Decision Tree Classifier': dtc,\n",
    "'Logistic Regression': lrc,\n",
    "'Random Forest Classifier': rfc,\n",
    "'Ada Boost Classifier': abc,\n",
    "'Bagging Classifier': bc,\n",
    "'Extra Trees Classifier': etc,\n",
    "'Gradient Boosting Classifier':gbdt,\n",
    "'XGBClassifier':xgb\n",
    "}"
   ]
  },
  {
   "cell_type": "code",
   "execution_count": null,
   "id": "a40af3c0-6da0-4314-8611-25c329556b7f",
   "metadata": {},
   "outputs": [],
   "source": [
    "def train_classifier(clf, X_train,Y_train, X_test,Y_test): \n",
    "    clf.fit(X_train,Y_train)\n",
    "    Y_pred = clf.predict(X_test)\n",
    "    accuracy = accuracy_score(Y_test,Y_pred) \n",
    "    precision = precision_score(Y_test,Y_pred)\n",
    "    return accuracy, precision"
   ]
  },
  {
   "cell_type": "code",
   "execution_count": null,
   "id": "220e6ee7-ffc1-4e40-901c-881f1b85edf6",
   "metadata": {},
   "outputs": [],
   "source": [
    "train_classifier(etc,X_train,Y_train,X_test,Y_test)"
   ]
  },
  {
   "cell_type": "raw",
   "id": "923333fc-1412-4e09-845b-7ed8d199095a",
   "metadata": {},
   "source": [
    "import pandas as pd\n",
    "accuracy_scores = []\n",
    "precision_scores = []\n",
    "\n",
    "Y_train = Y_train.ravel()  # Reshape y for training\n",
    "Y_test = Y_test.ravel()    # Reshape y for testing\n",
    "\n",
    "for name, clf in clfs.items():\n",
    "    current_accuracy, current_precision = train_classifier(clf, X_train, Y_train, X_test, Y_test)\n",
    "    accuracy_scores.append(current_accuracy)\n",
    "    precision_scores.append(current_precision)\n",
    "\n",
    "perfomance_df = pd.DataFrame({\"Algorithm\": clfs.keys(), \"Accuracy\": accuracy_scores, \"Precision\": precision_scores})\n",
    "perfomance_df"
   ]
  },
  {
   "cell_type": "code",
   "execution_count": null,
   "id": "9f8f1b69-6a10-44f1-a855-229dee97cafe",
   "metadata": {},
   "outputs": [],
   "source": [
    "import numpy as np\n",
    "accuracy_scores = []\n",
    "precision_scores = []\n",
    "\n",
    "Y_train = Y_train.ravel()\n",
    "Y_test = Y_test.ravel()\n",
    "\n",
    "accuracy_scores = np.empty(len(clfs))\n",
    "precision_scores = np.empty(len(clfs))"
   ]
  },
  {
   "cell_type": "code",
   "execution_count": null,
   "id": "a231053f-a2cc-40fd-8fca-9b62b557f1e8",
   "metadata": {},
   "outputs": [],
   "source": [
    "for i, (name, clf) in enumerate(clfs.items()):\n",
    "    current_accuracy, current_precision = train_classifier(clf, X_train, Y_train, X_test, Y_test)\n",
    "    accuracy_scores[i] = current_accuracy\n",
    "    precision_scores[i] = current_precision"
   ]
  },
  {
   "cell_type": "raw",
   "id": "b35f4879-e752-4782-bbd6-b02f452a95e3",
   "metadata": {},
   "source": [
    "perfomance_df = pd.DataFrame({\"Algorithm\": clfs.keys(), \"Accuracy\": accuracy_scores, \"Precision\": precision_scores})\n",
    "perfomance_df"
   ]
  },
  {
   "cell_type": "raw",
   "id": "00d4e6a7-d2aa-47b7-84fe-f480f65754fb",
   "metadata": {},
   "source": [
    "import pandas as pd\n",
    "import seaborn as sns\n",
    "import matplotlib.pyplot as plt\n",
    "\n",
    "# Reshape the DataFrame to a long-form structure\n",
    "perfomance_df = pd.melt(perfomance_df, id_vars=\"Algorithm\", value_vars=[\"Accuracy\", \"Precision\"], var_name=\"variable\")\n",
    "\n",
    "# Create the catplot with desired colors\n",
    "sns.catplot(\n",
    "    x=\"Algorithm\",\n",
    "    y=\"value\",\n",
    "    hue=\"variable\",\n",
    "    data=perfomance_df,\n",
    "    kind=\"bar\",\n",
    "    palette={\"Accuracy\": \"green\", \"Precision\": \"orange\"},\n",
    "    height=5\n",
    ")\n",
    "\n",
    "# Adjust y-axis limits and rotate x-axis labels\n",
    "plt.ylim(0, 1)  # Set y-axis limits between 0 and 1\n",
    "plt.xticks(rotation='vertical')\n",
    "\n",
    "# Show the plot\n",
    "plt.show()"
   ]
  },
  {
   "cell_type": "raw",
   "id": "92259a10-84c0-4498-adb0-199f7b06061f",
   "metadata": {},
   "source": [
    "Extra Trees Classifier (A variation of Random Forest) is giving the best result\n",
    "\n",
    "--> Accuracy = 0.97\n",
    "--> Precision = 0.99"
   ]
  },
  {
   "cell_type": "code",
   "execution_count": null,
   "id": "74383349-8143-4ca1-b4da-440c47e07d62",
   "metadata": {},
   "outputs": [],
   "source": [
    "import pickle\n",
    "pickle.dump(tfidf, open('vectorizer.pkl', 'wb'))\n",
    "pickle.dump(etc, open('model.pkl', 'wb'))"
   ]
  },
  {
   "cell_type": "code",
   "execution_count": null,
   "id": "603edc84-54a3-4fa6-adb6-8f06047db428",
   "metadata": {},
   "outputs": [],
   "source": []
  }
 ],
 "metadata": {
  "kernelspec": {
   "display_name": "Python 3 (ipykernel)",
   "language": "python",
   "name": "python3"
  },
  "language_info": {
   "codemirror_mode": {
    "name": "ipython",
    "version": 3
   },
   "file_extension": ".py",
   "mimetype": "text/x-python",
   "name": "python",
   "nbconvert_exporter": "python",
   "pygments_lexer": "ipython3",
   "version": "3.10.7"
  }
 },
 "nbformat": 4,
 "nbformat_minor": 5
}
